{
 "cells": [
  {
   "cell_type": "code",
   "execution_count": 1,
   "id": "0a8e1ed8",
   "metadata": {},
   "outputs": [],
   "source": [
    "import torch\n",
    "import random\n",
    "from torch.utils import data"
   ]
  },
  {
   "cell_type": "code",
   "execution_count": 2,
   "id": "027f7b18",
   "metadata": {},
   "outputs": [],
   "source": [
    "def gen(data):\n",
    "    n = len(data)\n",
    "    n_samples = len(data)\n",
    "    for _ in range(n_samples//n):\n",
    "        for v in torch.randperm(n).tolist():\n",
    "            yield v\n",
    "    for v in torch.randperm(n).tolist()[:n_samples%n]:\n",
    "        yield v"
   ]
  },
  {
   "cell_type": "code",
   "execution_count": 3,
   "id": "3ddd757e",
   "metadata": {},
   "outputs": [],
   "source": [
    "def gen_gen(data):\n",
    "    n = len(data)\n",
    "    n_samples = len(data)\n",
    "    generator = torch.Generator()\n",
    "    for _ in range(n_samples//n):\n",
    "        yield from torch.randperm(n, generator=generator).tolist()\n",
    "    yield from torch.randperm(n, generator=generator).tolist()[:n_samples%n]"
   ]
  },
  {
   "cell_type": "code",
   "execution_count": 10,
   "id": "ca1587c0",
   "metadata": {},
   "outputs": [],
   "source": [
    "def b_gen(batch_size, sample):\n",
    "    batch = [0]*batch_size\n",
    "    idx_batch = 0\n",
    "    for idx in sample:\n",
    "        batch[idx_batch] = idx\n",
    "        idx_batch += 1\n",
    "        if idx_batch == batch_size:\n",
    "            yield batch\n",
    "            idx_batch = 0\n",
    "            batch = [0]*batch_size\n",
    "    if idx_batch > 0:\n",
    "        yield batch[:idx_batch]"
   ]
  },
  {
   "cell_type": "code",
   "execution_count": 19,
   "id": "04e753dc",
   "metadata": {},
   "outputs": [
    {
     "name": "stdout",
     "output_type": "stream",
     "text": [
      "tensor([1, 7, 5, 8, 2, 4, 3, 0, 6, 9])\n",
      "tensor([9, 9, 0, 2, 7, 4, 8, 6, 1, 0, 7, 2, 0, 8, 9, 8, 4, 7, 1, 4, 6, 2, 9, 7,\n",
      "        5, 8, 4, 4, 2, 8, 4, 1])\n"
     ]
    }
   ],
   "source": [
    "print(torch.randperm(10))\n",
    "print(torch.randint(high=10,size=(32,)))"
   ]
  },
  {
   "cell_type": "code",
   "execution_count": 16,
   "id": "9c72725f",
   "metadata": {},
   "outputs": [
    {
     "name": "stdout",
     "output_type": "stream",
     "text": [
      "[5, 4, 3, 0, 6, 7, 2, 9, 8, 1]\n"
     ]
    },
    {
     "data": {
      "text/plain": [
       "[[5, 4], [3, 0], [6, 7], [2, 9], [8, 1]]"
      ]
     },
     "execution_count": 16,
     "metadata": {},
     "output_type": "execute_result"
    }
   ],
   "source": [
    "idx = list(gen(range(10)))\n",
    "print(idx)\n",
    "[g for g in b_gen(2, idx)]"
   ]
  },
  {
   "cell_type": "code",
   "execution_count": 21,
   "id": "5a14c69e",
   "metadata": {},
   "outputs": [],
   "source": [
    "data = list()\n",
    "data.append([1,2,3,4,5])\n",
    "data.append([6,7,8,9,10])\n",
    "data.append([11,12,13,14])"
   ]
  },
  {
   "cell_type": "code",
   "execution_count": 31,
   "id": "4978604f",
   "metadata": {},
   "outputs": [],
   "source": [
    "data = list()\n",
    "data.append([[1,2,3],[2,3,4]])\n",
    "data.append([[1,2,3],[4,5,6]])\n",
    "data.append([[1,2,3],[5,6,7]])\n",
    "t = torch.tensor(data, dtype=torch.int32)"
   ]
  },
  {
   "cell_type": "code",
   "execution_count": 32,
   "id": "35828b65",
   "metadata": {},
   "outputs": [
    {
     "data": {
      "text/plain": [
       "torch.Size([3, 2, 3])"
      ]
     },
     "execution_count": 32,
     "metadata": {},
     "output_type": "execute_result"
    }
   ],
   "source": [
    "t.shape"
   ]
  },
  {
   "cell_type": "code",
   "execution_count": 29,
   "id": "306dfb10",
   "metadata": {},
   "outputs": [
    {
     "data": {
      "text/plain": [
       "tensor([[2, 3, 4],\n",
       "        [4, 5, 6],\n",
       "        [5, 6, 7]])"
      ]
     },
     "execution_count": 29,
     "metadata": {},
     "output_type": "execute_result"
    }
   ],
   "source": [
    "torch.max(t, 1).values"
   ]
  },
  {
   "cell_type": "code",
   "execution_count": 33,
   "id": "4be19fbf",
   "metadata": {},
   "outputs": [
    {
     "ename": "RuntimeError",
     "evalue": "\"max_pool1d_impl\" not implemented for 'Int'",
     "output_type": "error",
     "traceback": [
      "\u001b[0;31m---------------------------------------------------------------------------\u001b[0m",
      "\u001b[0;31mRuntimeError\u001b[0m                              Traceback (most recent call last)",
      "\u001b[0;32m/var/folders/b8/vnxjy2xn7q1df97v2tmjx8hw0000gn/T/ipykernel_64785/3148073448.py\u001b[0m in \u001b[0;36m<module>\u001b[0;34m\u001b[0m\n\u001b[0;32m----> 1\u001b[0;31m \u001b[0mtorch\u001b[0m\u001b[0;34m.\u001b[0m\u001b[0mmax_pool1d\u001b[0m\u001b[0;34m(\u001b[0m\u001b[0mt\u001b[0m\u001b[0;34m,\u001b[0m \u001b[0;36m1\u001b[0m\u001b[0;34m)\u001b[0m\u001b[0;34m\u001b[0m\u001b[0;34m\u001b[0m\u001b[0m\n\u001b[0m",
      "\u001b[0;31mRuntimeError\u001b[0m: \"max_pool1d_impl\" not implemented for 'Int'"
     ]
    }
   ],
   "source": [
    "torch.max_pool1d(t, 1)"
   ]
  },
  {
   "cell_type": "code",
   "execution_count": 35,
   "id": "11ba96ae",
   "metadata": {},
   "outputs": [],
   "source": [
    "embedding = torch.nn.Embedding(10, 3)"
   ]
  },
  {
   "cell_type": "code",
   "execution_count": 37,
   "id": "29424a2a",
   "metadata": {},
   "outputs": [
    {
     "data": {
      "text/plain": [
       "Parameter containing:\n",
       "tensor([[ 0.1469,  0.7656, -0.0039],\n",
       "        [ 1.0852, -1.0769, -1.1379],\n",
       "        [-0.3497, -0.1153,  0.7755],\n",
       "        [-2.2621, -1.6181,  0.2361],\n",
       "        [-0.2531, -0.9481, -1.0242],\n",
       "        [ 0.0071,  0.0684, -2.3986],\n",
       "        [-0.9717,  0.0388, -1.0730],\n",
       "        [ 0.7681, -1.1504,  1.0806],\n",
       "        [ 0.2182, -0.3881, -1.2451],\n",
       "        [-0.2465, -0.2583, -0.0700]], requires_grad=True)"
      ]
     },
     "execution_count": 37,
     "metadata": {},
     "output_type": "execute_result"
    }
   ],
   "source": [
    "embedding.weight"
   ]
  },
  {
   "cell_type": "code",
   "execution_count": 42,
   "id": "596687a5",
   "metadata": {},
   "outputs": [
    {
     "ename": "IndexError",
     "evalue": "index out of range in self",
     "output_type": "error",
     "traceback": [
      "\u001b[0;31m---------------------------------------------------------------------------\u001b[0m",
      "\u001b[0;31mIndexError\u001b[0m                                Traceback (most recent call last)",
      "\u001b[0;32m/var/folders/b8/vnxjy2xn7q1df97v2tmjx8hw0000gn/T/ipykernel_64785/1411137547.py\u001b[0m in \u001b[0;36m<module>\u001b[0;34m\u001b[0m\n\u001b[0;32m----> 1\u001b[0;31m \u001b[0membedding\u001b[0m\u001b[0;34m(\u001b[0m\u001b[0mtorch\u001b[0m\u001b[0;34m.\u001b[0m\u001b[0mtensor\u001b[0m\u001b[0;34m(\u001b[0m\u001b[0;34m[\u001b[0m\u001b[0;36m10\u001b[0m\u001b[0;34m]\u001b[0m\u001b[0;34m)\u001b[0m\u001b[0;34m)\u001b[0m\u001b[0;34m\u001b[0m\u001b[0;34m\u001b[0m\u001b[0m\n\u001b[0m",
      "\u001b[0;32m~/opt/anaconda3/lib/python3.9/site-packages/torch/nn/modules/module.py\u001b[0m in \u001b[0;36m_call_impl\u001b[0;34m(self, *input, **kwargs)\u001b[0m\n\u001b[1;32m   1100\u001b[0m         if not (self._backward_hooks or self._forward_hooks or self._forward_pre_hooks or _global_backward_hooks\n\u001b[1;32m   1101\u001b[0m                 or _global_forward_hooks or _global_forward_pre_hooks):\n\u001b[0;32m-> 1102\u001b[0;31m             \u001b[0;32mreturn\u001b[0m \u001b[0mforward_call\u001b[0m\u001b[0;34m(\u001b[0m\u001b[0;34m*\u001b[0m\u001b[0minput\u001b[0m\u001b[0;34m,\u001b[0m \u001b[0;34m**\u001b[0m\u001b[0mkwargs\u001b[0m\u001b[0;34m)\u001b[0m\u001b[0;34m\u001b[0m\u001b[0;34m\u001b[0m\u001b[0m\n\u001b[0m\u001b[1;32m   1103\u001b[0m         \u001b[0;31m# Do not call functions when jit is used\u001b[0m\u001b[0;34m\u001b[0m\u001b[0;34m\u001b[0m\u001b[0m\n\u001b[1;32m   1104\u001b[0m         \u001b[0mfull_backward_hooks\u001b[0m\u001b[0;34m,\u001b[0m \u001b[0mnon_full_backward_hooks\u001b[0m \u001b[0;34m=\u001b[0m \u001b[0;34m[\u001b[0m\u001b[0;34m]\u001b[0m\u001b[0;34m,\u001b[0m \u001b[0;34m[\u001b[0m\u001b[0;34m]\u001b[0m\u001b[0;34m\u001b[0m\u001b[0;34m\u001b[0m\u001b[0m\n",
      "\u001b[0;32m~/opt/anaconda3/lib/python3.9/site-packages/torch/nn/modules/sparse.py\u001b[0m in \u001b[0;36mforward\u001b[0;34m(self, input)\u001b[0m\n\u001b[1;32m    156\u001b[0m \u001b[0;34m\u001b[0m\u001b[0m\n\u001b[1;32m    157\u001b[0m     \u001b[0;32mdef\u001b[0m \u001b[0mforward\u001b[0m\u001b[0;34m(\u001b[0m\u001b[0mself\u001b[0m\u001b[0;34m,\u001b[0m \u001b[0minput\u001b[0m\u001b[0;34m:\u001b[0m \u001b[0mTensor\u001b[0m\u001b[0;34m)\u001b[0m \u001b[0;34m->\u001b[0m \u001b[0mTensor\u001b[0m\u001b[0;34m:\u001b[0m\u001b[0;34m\u001b[0m\u001b[0;34m\u001b[0m\u001b[0m\n\u001b[0;32m--> 158\u001b[0;31m         return F.embedding(\n\u001b[0m\u001b[1;32m    159\u001b[0m             \u001b[0minput\u001b[0m\u001b[0;34m,\u001b[0m \u001b[0mself\u001b[0m\u001b[0;34m.\u001b[0m\u001b[0mweight\u001b[0m\u001b[0;34m,\u001b[0m \u001b[0mself\u001b[0m\u001b[0;34m.\u001b[0m\u001b[0mpadding_idx\u001b[0m\u001b[0;34m,\u001b[0m \u001b[0mself\u001b[0m\u001b[0;34m.\u001b[0m\u001b[0mmax_norm\u001b[0m\u001b[0;34m,\u001b[0m\u001b[0;34m\u001b[0m\u001b[0;34m\u001b[0m\u001b[0m\n\u001b[1;32m    160\u001b[0m             self.norm_type, self.scale_grad_by_freq, self.sparse)\n",
      "\u001b[0;32m~/opt/anaconda3/lib/python3.9/site-packages/torch/nn/functional.py\u001b[0m in \u001b[0;36membedding\u001b[0;34m(input, weight, padding_idx, max_norm, norm_type, scale_grad_by_freq, sparse)\u001b[0m\n\u001b[1;32m   2042\u001b[0m         \u001b[0;31m# remove once script supports set_grad_enabled\u001b[0m\u001b[0;34m\u001b[0m\u001b[0;34m\u001b[0m\u001b[0m\n\u001b[1;32m   2043\u001b[0m         \u001b[0m_no_grad_embedding_renorm_\u001b[0m\u001b[0;34m(\u001b[0m\u001b[0mweight\u001b[0m\u001b[0;34m,\u001b[0m \u001b[0minput\u001b[0m\u001b[0;34m,\u001b[0m \u001b[0mmax_norm\u001b[0m\u001b[0;34m,\u001b[0m \u001b[0mnorm_type\u001b[0m\u001b[0;34m)\u001b[0m\u001b[0;34m\u001b[0m\u001b[0;34m\u001b[0m\u001b[0m\n\u001b[0;32m-> 2044\u001b[0;31m     \u001b[0;32mreturn\u001b[0m \u001b[0mtorch\u001b[0m\u001b[0;34m.\u001b[0m\u001b[0membedding\u001b[0m\u001b[0;34m(\u001b[0m\u001b[0mweight\u001b[0m\u001b[0;34m,\u001b[0m \u001b[0minput\u001b[0m\u001b[0;34m,\u001b[0m \u001b[0mpadding_idx\u001b[0m\u001b[0;34m,\u001b[0m \u001b[0mscale_grad_by_freq\u001b[0m\u001b[0;34m,\u001b[0m \u001b[0msparse\u001b[0m\u001b[0;34m)\u001b[0m\u001b[0;34m\u001b[0m\u001b[0;34m\u001b[0m\u001b[0m\n\u001b[0m\u001b[1;32m   2045\u001b[0m \u001b[0;34m\u001b[0m\u001b[0m\n\u001b[1;32m   2046\u001b[0m \u001b[0;34m\u001b[0m\u001b[0m\n",
      "\u001b[0;31mIndexError\u001b[0m: index out of range in self"
     ]
    }
   ],
   "source": [
    "embedding(torch.tensor([10]))"
   ]
  },
  {
   "cell_type": "code",
   "execution_count": null,
   "id": "0114ba33",
   "metadata": {},
   "outputs": [],
   "source": [
    "a = tensor()"
   ]
  }
 ],
 "metadata": {
  "kernelspec": {
   "display_name": "Python 3 (ipykernel)",
   "language": "python",
   "name": "python3"
  },
  "language_info": {
   "codemirror_mode": {
    "name": "ipython",
    "version": 3
   },
   "file_extension": ".py",
   "mimetype": "text/x-python",
   "name": "python",
   "nbconvert_exporter": "python",
   "pygments_lexer": "ipython3",
   "version": "3.9.9"
  }
 },
 "nbformat": 4,
 "nbformat_minor": 5
}
